{
 "cells": [
  {
   "cell_type": "code",
   "execution_count": 1,
   "id": "1f6b09a5",
   "metadata": {},
   "outputs": [
    {
     "name": "stdout",
     "output_type": "stream",
     "text": [
      "Enter a whole number no greater than 8: 20\n",
      "You enter the number greater than eight\n",
      "Your number is  10\n"
     ]
    }
   ],
   "source": [
    "x = int(input(\"Enter a whole number no greater than 8: \"))\n",
    "if x >10:\n",
    "    print(\"You enter the number greater than eight\")\n",
    "    x = 10\n",
    "    print(\"Your number is \",x)"
   ]
  },
  {
   "cell_type": "code",
   "execution_count": 6,
   "id": "5d637d6b",
   "metadata": {},
   "outputs": [
    {
     "name": "stdout",
     "output_type": "stream",
     "text": [
      "Enter a whole number no greater than 8: 7\n",
      "Your number is ok\n"
     ]
    }
   ],
   "source": [
    "x = int(input(\"Enter a whole number no greater than 8: \"))\n",
    "if x >10:\n",
    "    print(\"You enter the number greater than eight\")\n",
    "else:\n",
    "    print(\"Your number is ok\")"
   ]
  },
  {
   "cell_type": "code",
   "execution_count": 11,
   "id": "bfabde94",
   "metadata": {
    "scrolled": true
   },
   "outputs": [
    {
     "name": "stdout",
     "output_type": "stream",
     "text": [
      "Enter an integer4\n",
      "even\n"
     ]
    }
   ],
   "source": [
    "n = int(input(\"Enter an integer\"))\n",
    "if n%2 ==0:\n",
    "    print(\"even\")\n",
    "else:\n",
    "    print(\"odd\")"
   ]
  },
  {
   "cell_type": "code",
   "execution_count": 28,
   "id": "76df2a34",
   "metadata": {},
   "outputs": [
    {
     "name": "stdout",
     "output_type": "stream",
     "text": [
      "Enter a whole number no greater than eleven:5\n",
      "your number is 5\n"
     ]
    }
   ],
   "source": [
    "x = int(input(\"Enter a whole number no greater than eleven:\"))\n",
    "while x>11:\n",
    "    print(\"This is greater than eleven.Please try again\")\n",
    "    x = int(input(\"Enter awhole number no greater than eleven:\"))\n",
    "print(\"your number is\",x)    "
   ]
  },
  {
   "cell_type": "code",
   "execution_count": 31,
   "id": "690335d1",
   "metadata": {},
   "outputs": [
    {
     "name": "stdout",
     "output_type": "stream",
     "text": [
      "2.692582403567252\n"
     ]
    }
   ],
   "source": [
    "from math import sqrt\n",
    "r = [1.0, 1.5, -2]\n",
    "length = sqrt(r[0]**2 + r[1]**2 + r[2]**2 )\n",
    "print(length)"
   ]
  },
  {
   "cell_type": "code",
   "execution_count": 32,
   "id": "9c07558c",
   "metadata": {},
   "outputs": [
    {
     "name": "stdout",
     "output_type": "stream",
     "text": [
      "[1.0, 1.5, -2.2, 3.6]\n"
     ]
    }
   ],
   "source": [
    "r = [1.0, 1.5, -2.2]\n",
    "x = 0.8\n",
    "r.append(2*x+2)\n",
    "print(r)"
   ]
  },
  {
   "cell_type": "code",
   "execution_count": 33,
   "id": "c9b69e5e",
   "metadata": {},
   "outputs": [
    {
     "name": "stdout",
     "output_type": "stream",
     "text": [
      "[1.0, 2, 2.6]\n"
     ]
    }
   ],
   "source": [
    "r = []\n",
    "r.append(1.0)\n",
    "r.append(2)\n",
    "r.append(2.6)\n",
    "print(r)"
   ]
  }
 ],
 "metadata": {
  "kernelspec": {
   "display_name": "Python 3",
   "language": "python",
   "name": "python3"
  },
  "language_info": {
   "codemirror_mode": {
    "name": "ipython",
    "version": 3
   },
   "file_extension": ".py",
   "mimetype": "text/x-python",
   "name": "python",
   "nbconvert_exporter": "python",
   "pygments_lexer": "ipython3",
   "version": "3.8.10"
  }
 },
 "nbformat": 4,
 "nbformat_minor": 5
}
